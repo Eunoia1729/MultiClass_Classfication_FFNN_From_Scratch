{
  "nbformat": 4,
  "nbformat_minor": 0,
  "metadata": {
    "colab": {
      "name": "MLP_MultiClassifier.ipynb",
      "provenance": [],
      "collapsed_sections": [],
      "toc_visible": true
    },
    "kernelspec": {
      "name": "python3",
      "display_name": "Python 3"
    }
  },
  "cells": [
    {
      "cell_type": "markdown",
      "metadata": {
        "id": "bwzz_ITYw0C_",
        "colab_type": "text"
      },
      "source": [
        "##  Imports\n"
      ]
    },
    {
      "cell_type": "code",
      "metadata": {
        "id": "bacQP64ONmTm",
        "colab_type": "code",
        "colab": {}
      },
      "source": [
        "import numpy as np\n",
        "import matplotlib.pyplot as plt\n",
        "from sklearn.model_selection import train_test_split\n",
        "from sklearn.metrics import accuracy_score, mean_squared_error\n",
        "import pprint\n",
        "from sklearn.preprocessing import OneHotEncoder\n",
        "from sklearn.preprocessing import StandardScaler\n",
        "from numpy import newaxis\n",
        "from sklearn import datasets"
      ],
      "execution_count": 0,
      "outputs": []
    },
    {
      "cell_type": "markdown",
      "metadata": {
        "id": "r1hCow8mw_bz",
        "colab_type": "text"
      },
      "source": [
        "## Neural Network Class"
      ]
    },
    {
      "cell_type": "code",
      "metadata": {
        "id": "WVi0lQqhhuKn",
        "colab_type": "code",
        "colab": {}
      },
      "source": [
        "class FFNN:\n",
        "  def __init__(self, n_input, n_output , h = [2]):\n",
        "    self.nx = n_input\n",
        "    self.ny = n_output\n",
        "    self.nh = len(h)\n",
        "    self.lens = [self.nx] + h + [self.ny]\n",
        "    self.fake_input = np.array([[1]])\n",
        "\n",
        "    self.W = {}\n",
        "    for i in range(1, self.nh + 2):\n",
        "      self.W[i] = np.random.randn(self.lens[i-1] + 1, self.lens[i]) * np.sqrt(1 / (2 + self.lens[i-1]))\n",
        "  \n",
        "  def sigmoid(self, z):\n",
        "    return 1.0/(1.0 + np.exp(-z))\n",
        "  \n",
        "  def softmax(self, x):\n",
        "    A = np.exp(x)\n",
        "    return A/sum(A)\n",
        "  \n",
        "  def cross_entropy(self,label,pred):\n",
        "    yl=np.multiply(pred,label)\n",
        "    yl=yl[yl!=0]\n",
        "    yl=-np.log(yl)\n",
        "    yl=np.mean(yl)\n",
        "    return yl\n",
        "  \n",
        "  def sigder(self, x):\n",
        "    return x*(1 - x)  \n",
        "  \n",
        "  def forward(self, x):\n",
        "    self.A = {}\n",
        "    self.Z = {}\n",
        "    self.Z[0] = np.resize(x, (len(x), 1))\n",
        "    for i in range(1, self.nh + 2):\n",
        "      self.Z[i-1] = np.vstack((self.fake_input, self.Z[i-1]))\n",
        "      self.A[i] = np.matmul( self.W[i].T, self.Z[i-1] ) \n",
        "      self.Z[i] = self.sigmoid(self.A[i])\n",
        "    \n",
        "    self.Z[self.nh + 1] = self.softmax(self.A[self.nh+1])\n",
        "    \n",
        "    return self.Z[self.nh + 1]\n",
        "\n",
        "  def grad(self, train_x, train_y):\n",
        "    self.forward(train_x) \n",
        "    self.dell = {}  \n",
        "    self.dW = {}\n",
        "    \n",
        "    self.dell[self.nh + 1] = self.Z[self.nh + 1] - train_y \n",
        "    self.dW[self.nh + 1] = np.matmul(self.Z[self.nh], self.dell[self.nh + 1].T) \n",
        "    \n",
        "    for i in range(self.nh, 0, -1): \n",
        "      tmp = np.matmul(self.W[i+1][1:,:], self.dell[i+1])\n",
        "      self.dell[i] =  tmp * self.sigder(self.Z[i][1:])\n",
        "      self.dW[i] =  np.matmul(self.Z[i - 1], self.dell[i].T)\n",
        "\n",
        "  def predict(self, X):\n",
        "    Y_pred = []\n",
        "    for x in X:\n",
        "      y_pred = self.forward(x)\n",
        "      Y_pred.append(y_pred)\n",
        "    return np.array(Y_pred).squeeze()\n",
        "\n",
        "  def fit(self, X, Y, val_x, val_y, epochs=100, learning_rate=0.01, display_loss=False):      \n",
        "\n",
        "    if display_loss:\n",
        "      loss = {}\n",
        "      loss2 = {}\n",
        "    \n",
        "    for epoch in range(epochs):\n",
        "      if( epoch%10 == 0):\n",
        "        print(\"epoch: \"+str(epoch) +\" running.......\")\n",
        "      dW = {}\n",
        "      for i in range(1, self.nh+2):\n",
        "        dW[i] = np.zeros((1 + self.lens[i-1], self.lens[i]))\n",
        "      for x, y in zip(X, Y):\n",
        "        self.grad(np.asarray(x).T, np.asarray(y))\n",
        "        for i in range(1, self.nh+2):\n",
        "          self.W[i] -= learning_rate * self.dW[i] \n",
        "  \n",
        "      if display_loss:\n",
        "        Y_pred = self.predict(X)\n",
        "        Y_pred = Y_pred[:,:,newaxis] \n",
        "        Y_pred2 = self.predict(val_x)\n",
        "        Y_pred2 = Y_pred2[:,:,newaxis] \n",
        "        loss[epoch] = self.cross_entropy(Y, Y_pred)\n",
        "        loss2[epoch] = self.cross_entropy(val_y, Y_pred2)\n",
        "    \n",
        "    if display_loss:\n",
        "      lists = sorted(loss.items())\n",
        "      lists2 = sorted(loss2.items())\n",
        "      x, y = zip(*lists)\n",
        "      x2, y2 = zip(*lists2)\n",
        "      plt.plot(x, y, 'r', label = 'Training error')\n",
        "      plt.plot(x2, y2,'b' , label = 'Validation error')\n",
        "      plt.xlabel('Epochs')\n",
        "      plt.ylabel('CE')\n",
        "      plt.legend(loc=\"upper left\")\n",
        "      plt.show()"
      ],
      "execution_count": 0,
      "outputs": []
    },
    {
      "cell_type": "markdown",
      "metadata": {
        "id": "b_l1llWsHZpm",
        "colab_type": "text"
      },
      "source": [
        "## Load Dataset"
      ]
    },
    {
      "cell_type": "code",
      "metadata": {
        "id": "YwsEKmtTOYka",
        "colab_type": "code",
        "colab": {}
      },
      "source": [
        "iris = datasets.load_iris()\n",
        "\n",
        "x = iris.data\n",
        "y = iris.target\n",
        "\n",
        "X_train, X_val, Y_train, Y_val = train_test_split(x, y, test_size = .3)"
      ],
      "execution_count": 0,
      "outputs": []
    },
    {
      "cell_type": "markdown",
      "metadata": {
        "id": "gdK8lFjhxDsJ",
        "colab_type": "text"
      },
      "source": [
        "## Standardization of inputs and Hot Encoding"
      ]
    },
    {
      "cell_type": "code",
      "metadata": {
        "id": "LTFo2U_fOgTd",
        "colab_type": "code",
        "colab": {}
      },
      "source": [
        "scaler = StandardScaler()\n",
        "\n",
        "scaler.fit(X_train)\n",
        "\n",
        "X_train = scaler.transform(X_train)\n",
        "X_val = scaler.transform(X_val)\n",
        "\n",
        "enc = OneHotEncoder()\n",
        "Y_train_val = Y_train\n",
        "Y_val_val = Y_val\n",
        "Y_train = enc.fit_transform(np.expand_dims(Y_train,1)).toarray() \n",
        "Y_val = enc.fit_transform(np.expand_dims(Y_val,1)).toarray()\n",
        "\n",
        "Y_train = Y_train[:,:,newaxis]\n",
        "Y_val = Y_val[:,:,newaxis]\n"
      ],
      "execution_count": 0,
      "outputs": []
    },
    {
      "cell_type": "markdown",
      "metadata": {
        "id": "REYw7t16HeJD",
        "colab_type": "text"
      },
      "source": [
        "## Play with Parameters and Test"
      ]
    },
    {
      "cell_type": "code",
      "metadata": {
        "id": "dDJ1jLhWFMxh",
        "colab_type": "code",
        "outputId": "d939f33f-55c3-45d6-c76e-b9cc31de95f0",
        "colab": {
          "base_uri": "https://localhost:8080/",
          "height": 487
        }
      },
      "source": [
        "ffsn_multi = FFNN(4,3,[5])\n",
        "\n",
        "ffsn_multi.fit(X_train,Y_train, X_val, Y_val, epochs=100,learning_rate=.01, display_loss=True)\n",
        "\n",
        "Y_pred_train = ffsn_multi.predict(X_train)\n",
        "Y_pred_train = np.argmax(Y_pred_train,1)\n",
        "\n",
        "Y_pred_val = ffsn_multi.predict(X_val)\n",
        "Y_pred_val = np.argmax(Y_pred_val,1)\n",
        "\n",
        "accuracy_train = accuracy_score(Y_pred_train, Y_train_val)\n",
        "accuracy_val = accuracy_score(Y_pred_val, Y_val_val)\n",
        "\n",
        "print(\"Training accuracy\", round(accuracy_train, 4))\n",
        "print(\"Validation accuracy\", round(accuracy_val, 4))"
      ],
      "execution_count": 0,
      "outputs": [
        {
          "output_type": "stream",
          "text": [
            "epoch: 0 running.......\n",
            "epoch: 10 running.......\n",
            "epoch: 20 running.......\n",
            "epoch: 30 running.......\n",
            "epoch: 40 running.......\n",
            "epoch: 50 running.......\n",
            "epoch: 60 running.......\n",
            "epoch: 70 running.......\n",
            "epoch: 80 running.......\n",
            "epoch: 90 running.......\n"
          ],
          "name": "stdout"
        },
        {
          "output_type": "display_data",
          "data": {
            "image/png": "[encoded data removed]",
            "text/plain": [
              "<Figure size 432x288 with 1 Axes>"
            ]
          },
          "metadata": {
            "tags": []
          }
        },
        {
          "output_type": "stream",
          "text": [
            "Training accuracy 0.9905\n",
            "Validation accuracy 0.9111\n"
          ],
          "name": "stdout"
        }
      ]
    },
    {
      "cell_type": "markdown",
      "metadata": {
        "id": "VOrybmHMxNR_",
        "colab_type": "text"
      },
      "source": [
        "## Resultant Weights"
      ]
    },
    {
      "cell_type": "code",
      "metadata": {
        "id": "QVIbtcZYsfQl",
        "colab_type": "code",
        "outputId": "0b6526bb-163c-47ef-831e-c6b003203cd3",
        "colab": {
          "base_uri": "https://localhost:8080/",
          "height": 208
        }
      },
      "source": [
        "pprint.pprint(ffsn_multi.W)"
      ],
      "execution_count": 0,
      "outputs": [
        {
          "output_type": "stream",
          "text": [
            "{1: array([[ 0.98395799,  0.45294205,  0.02485852, -1.48224627,  0.58672275],\n",
            "       [ 0.72041604, -0.70197368, -0.33125711, -0.33213267, -0.25134398],\n",
            "       [-1.42660354,  0.16828344,  0.83635222, -0.43263352, -0.12679346],\n",
            "       [ 1.38705126, -1.22496849, -0.91648064,  1.41957303, -0.74736107],\n",
            "       [ 0.61095535, -1.08593673, -1.2618097 ,  1.75964047, -1.38532747]]),\n",
            " 2: array([[-0.59360367,  0.13817983,  0.56712854],\n",
            "       [-2.5542685 ,  1.58900911,  0.69731884],\n",
            "       [ 1.88504456,  0.23539915, -2.46630673],\n",
            "       [ 2.27377614, -0.21787378, -2.09644008],\n",
            "       [-2.05229282, -1.12896706,  2.75869034],\n",
            "       [ 0.93678805,  0.65658129, -2.11413308]])}\n"
          ],
          "name": "stdout"
        }
      ]
    },
    {
      "cell_type": "code",
      "metadata": {
        "id": "TcNbsqts_iXW",
        "colab_type": "code",
        "colab": {}
      },
      "source": [
        ""
      ],
      "execution_count": 0,
      "outputs": []
    },
    {
      "cell_type": "markdown",
      "metadata": {
        "id": "PEZ7TxLwASPE",
        "colab_type": "text"
      },
      "source": [
        "## Multi-Classification of Iris Data "
      ]
    },
    {
      "cell_type": "markdown",
      "metadata": {
        "id": "mvYmA400AtZ-",
        "colab_type": "text"
      },
      "source": [
        "### Using K-neighbors"
      ]
    },
    {
      "cell_type": "code",
      "metadata": {
        "id": "FoWoY5DRSvjP",
        "colab_type": "code",
        "colab": {}
      },
      "source": [
        "from sklearn import datasets\n",
        "iris = datasets.load_iris()"
      ],
      "execution_count": 0,
      "outputs": []
    },
    {
      "cell_type": "code",
      "metadata": {
        "id": "tOMSyAxmcHnp",
        "colab_type": "code",
        "colab": {}
      },
      "source": [
        "x = iris.data\n",
        "y = iris.target"
      ],
      "execution_count": 0,
      "outputs": []
    },
    {
      "cell_type": "code",
      "metadata": {
        "id": "iyDh-1oGcVgv",
        "colab_type": "code",
        "colab": {}
      },
      "source": [
        "print(x, type(x))\n",
        "print(y, type(y))"
      ],
      "execution_count": 0,
      "outputs": []
    },
    {
      "cell_type": "code",
      "metadata": {
        "id": "AfsCN5cUcNfb",
        "colab_type": "code",
        "colab": {}
      },
      "source": [
        "from sklearn.model_selection import train_test_split\n",
        "X_train, X_test, Y_train, Y_test = train_test_split(x, y, test_size = .3)"
      ],
      "execution_count": 0,
      "outputs": []
    },
    {
      "cell_type": "code",
      "metadata": {
        "id": "Ozjdj6WIdBBb",
        "colab_type": "code",
        "colab": {}
      },
      "source": [
        "from sklearn import neighbors\n",
        "classifier = neighbors.KNeighborsClassifier()"
      ],
      "execution_count": 0,
      "outputs": []
    },
    {
      "cell_type": "code",
      "metadata": {
        "id": "Nl_CiKXhdLGt",
        "colab_type": "code",
        "colab": {}
      },
      "source": [
        "classifier.fit(X_train, Y_train)"
      ],
      "execution_count": 0,
      "outputs": []
    },
    {
      "cell_type": "code",
      "metadata": {
        "id": "yo22Eme2dSkl",
        "colab_type": "code",
        "colab": {}
      },
      "source": [
        "prediction = classifier.predict(X_test)"
      ],
      "execution_count": 0,
      "outputs": []
    },
    {
      "cell_type": "code",
      "metadata": {
        "id": "Qyl7RnXQdeA3",
        "colab_type": "code",
        "colab": {}
      },
      "source": [
        "from sklearn.metrics import accuracy_score\n",
        "print(accuracy_score(Y_test,prediction))"
      ],
      "execution_count": 0,
      "outputs": []
    },
    {
      "cell_type": "markdown",
      "metadata": {
        "id": "3ai5NugRAi9m",
        "colab_type": "text"
      },
      "source": [
        "###Using GaussianNB"
      ]
    },
    {
      "cell_type": "code",
      "metadata": {
        "id": "Y3J3QRauf3PA",
        "colab_type": "code",
        "colab": {}
      },
      "source": [
        "from sklearn.naive_bayes import GaussianNB\n",
        "naive_classifier= GaussianNB()\n",
        "# from sklearn.model_selection import train_test_split\n",
        "# X_train, X_test, Y_train, Y_test = train_test_split(x, y, test_size = .3)\n",
        "y = naive_classifier.fit(X_train, Y_train).predict(X_test)\n",
        "# pr=naive_classifier.predict(iris.data)\n",
        "from sklearn.metrics import accuracy_score\n",
        "score = accuracy_score(Y_test, y)"
      ],
      "execution_count": 0,
      "outputs": []
    },
    {
      "cell_type": "code",
      "metadata": {
        "id": "Tw0nhs0-gKmW",
        "colab_type": "code",
        "colab": {}
      },
      "source": [
        "print(score)"
      ],
      "execution_count": 0,
      "outputs": []
    },
    {
      "cell_type": "code",
      "metadata": {
        "id": "vwyAKv4X2ulh",
        "colab_type": "code",
        "colab": {}
      },
      "source": [
        "print(x.shape)"
      ],
      "execution_count": 0,
      "outputs": []
    },
    {
      "cell_type": "markdown",
      "metadata": {
        "id": "afyKh9VoA1RK",
        "colab_type": "text"
      },
      "source": [
        "### Using MLP classifier"
      ]
    },
    {
      "cell_type": "code",
      "metadata": {
        "id": "ZAoCVPmP5C5d",
        "colab_type": "code",
        "colab": {}
      },
      "source": [
        "\n",
        "scaler = StandardScaler()\n",
        "# Fit only to the training data\n",
        "scaler.fit(X_train)\n",
        "# Now apply the transformations to the data:\n",
        "X_train = scaler.transform(X_train)\n",
        "X_test = scaler.transform(X_test)"
      ],
      "execution_count": 0,
      "outputs": []
    },
    {
      "cell_type": "code",
      "metadata": {
        "id": "YvGI1fer0rDQ",
        "colab_type": "code",
        "colab": {}
      },
      "source": [
        "from sklearn.neural_network import MLPClassifier\n",
        "clf = MLPClassifier( solver = 'lbfgs', alpha = 1e-5, hidden_layer_sizes = (3,3),\n",
        "                     random_state = 1)\n",
        "clf.fit(X_train, Y_train)\n",
        "y = clf.predict(X_test)\n",
        "score = accuracy_score(Y_test, y)\n",
        "print(score)"
      ],
      "execution_count": 0,
      "outputs": []
    },
    {
      "cell_type": "code",
      "metadata": {
        "id": "uhPQDCp95mb2",
        "colab_type": "code",
        "colab": {}
      },
      "source": [
        "print(X_train)"
      ],
      "execution_count": 0,
      "outputs": []
    },
    {
      "cell_type": "code",
      "metadata": {
        "id": "58IdGbuc6p7k",
        "colab_type": "code",
        "colab": {}
      },
      "source": [
        "print(Y_train)"
      ],
      "execution_count": 0,
      "outputs": []
    },
    {
      "cell_type": "code",
      "metadata": {
        "id": "xCROlafc6n9r",
        "colab_type": "code",
        "cellView": "form",
        "colab": {}
      },
      "source": [
        "#@title IRIS CLASS PREDICTOR(inputs in cm)\n",
        "Sepal_length  = 7 #@param {type:\"slider\", min:0, max:10, step:0.1}\n",
        "Sepal_width = 3.5 #@param {type:\"slider\", min:0, max:10, step:0.1}\n",
        "Petal_length = 5.2 #@param {type:\"slider\", min:0, max:10, step:0.1}\n",
        "Petal_width = 1.3 #@param {type:\"slider\", min:0, max:10, step:0.1}\n",
        "\n",
        "input1 = [[Sepal_length, Sepal_width, Petal_length, Petal_width]]\n",
        "y = clf.predict(input1)\n",
        "if( y == 0):\n",
        "  print('Iris Setosa')\n",
        "elif(y == 1):\n",
        "  print('Iris Versicolour')\n",
        "else:\n",
        "  print(' Iris Virginica')"
      ],
      "execution_count": 0,
      "outputs": []
    }
  ]
}